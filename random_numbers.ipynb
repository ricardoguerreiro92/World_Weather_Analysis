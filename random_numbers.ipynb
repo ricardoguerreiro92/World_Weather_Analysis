{
 "cells": [
  {
   "cell_type": "code",
   "execution_count": 68,
   "id": "dc9afae8",
   "metadata": {},
   "outputs": [],
   "source": [
    "#import the random module\n",
    "import random\n",
    "#import the NumPy module\n",
    "import numpy as np\n",
    "#import timeit\n",
    "import timeit"
   ]
  },
  {
   "cell_type": "code",
   "execution_count": 5,
   "id": "9174afe7",
   "metadata": {},
   "outputs": [
    {
     "data": {
      "text/plain": [
       "0.2594477923698024"
      ]
     },
     "execution_count": 5,
     "metadata": {},
     "output_type": "execute_result"
    }
   ],
   "source": [
    "random.random()"
   ]
  },
  {
   "cell_type": "code",
   "execution_count": 21,
   "id": "009bbf4b",
   "metadata": {},
   "outputs": [
    {
     "data": {
      "text/plain": [
       "-75"
      ]
     },
     "execution_count": 21,
     "metadata": {},
     "output_type": "execute_result"
    }
   ],
   "source": [
    "random.randint(-90,90)"
   ]
  },
  {
   "cell_type": "code",
   "execution_count": 47,
   "id": "fca81e85",
   "metadata": {},
   "outputs": [
    {
     "data": {
      "text/plain": [
       "-9"
      ]
     },
     "execution_count": 47,
     "metadata": {},
     "output_type": "execute_result"
    }
   ],
   "source": [
    "random.randrange(-90,90, step=3)"
   ]
  },
  {
   "cell_type": "code",
   "execution_count": 66,
   "id": "e695bb0d",
   "metadata": {},
   "outputs": [
    {
     "data": {
      "text/plain": [
       "-38.66600671134833"
      ]
     },
     "execution_count": 66,
     "metadata": {},
     "output_type": "execute_result"
    }
   ],
   "source": [
    "random.uniform(-90,90)"
   ]
  },
  {
   "cell_type": "code",
   "execution_count": 27,
   "id": "5d737c29",
   "metadata": {},
   "outputs": [
    {
     "name": "stdout",
     "output_type": "stream",
     "text": [
      "[37.44946783583454, 20.242118960490448, -48.37409367599057, 65.7284412063367, -32.69987371769191, -10.254341956843279, -43.04589821031486, 9.498818702586462, -35.37006720592779, -72.99150196840208]\n"
     ]
    }
   ],
   "source": [
    "#generating 10 random latitudes\n",
    "\n",
    "x = 1\n",
    "latitudes = []\n",
    "\n",
    "while x < 11:\n",
    "    random_lat = random.randint(-90,89) + random.random()\n",
    "    latitudes.append(random_lat)\n",
    "    x += 1\n",
    "print(latitudes)"
   ]
  },
  {
   "cell_type": "code",
   "execution_count": 77,
   "id": "3e15bb61",
   "metadata": {},
   "outputs": [
    {
     "data": {
      "text/plain": [
       "array([ 52.29408022,  52.76088194,  -1.25233258, -38.50447859,\n",
       "        84.14019445,  32.68786754,  85.91222735, -21.61986845,\n",
       "       -27.68647081, -48.01563954,  70.18960998, -73.18519963,\n",
       "       -58.98788608,   1.59419128,  87.00590056, -75.10752882,\n",
       "        68.77089783,  82.41482394, -17.24674721, -45.60795665,\n",
       "        75.91931216, -86.01807755,  70.70176006, -17.18553856,\n",
       "        11.97494146, -13.50508267,  -4.32668212,  -5.62987002,\n",
       "         3.05195229,   3.20082058,  63.57083322, -47.52284048,\n",
       "       -68.6231185 ,  56.21804466, -77.43392942, -43.05412274,\n",
       "        19.93165252,  12.09535208, -85.17887417,  10.82837769,\n",
       "       -65.07793453, -29.86183533, -49.65377483, -74.66473911,\n",
       "       -35.67764843, -40.04118845, -49.65187747,  31.70968372,\n",
       "        21.3572952 , -87.98949482])"
      ]
     },
     "execution_count": 77,
     "metadata": {},
     "output_type": "execute_result"
    }
   ],
   "source": [
    "np.random.uniform(-90.000,90.000, size=50)\n"
   ]
  },
  {
   "cell_type": "code",
   "execution_count": 78,
   "id": "fb79cd9b",
   "metadata": {},
   "outputs": [
    {
     "name": "stdout",
     "output_type": "stream",
     "text": [
      "12.8 µs ± 114 ns per loop (mean ± std. dev. of 7 runs, 100000 loops each)\n"
     ]
    }
   ],
   "source": [
    "#%timeit times how long a funcion took to finish\n",
    "%timeit np.random.uniform(-90.000,90.000, size=1500)"
   ]
  },
  {
   "cell_type": "code",
   "execution_count": 82,
   "id": "f09324ec",
   "metadata": {},
   "outputs": [
    {
     "name": "stdout",
     "output_type": "stream",
     "text": [
      "1.75 ms ± 79.1 µs per loop (mean ± std. dev. of 7 runs, 1000 loops each)\n"
     ]
    }
   ],
   "source": [
    "#timing same as above but with while loop\n",
    "def latitudes(size):\n",
    "    latitudes = []\n",
    "    x = 0\n",
    "    while x < (size):\n",
    "        random_lat = random.randint(-90,90) + random.random()\n",
    "        latitudes.append(random_lat)\n",
    "        x += 1\n",
    "    return latitudes\n",
    "\n",
    "#call the funcion with 1500\n",
    "%timeit latitudes(1500)"
   ]
  },
  {
   "cell_type": "code",
   "execution_count": 84,
   "id": "4cec033f",
   "metadata": {},
   "outputs": [
    {
     "name": "stdout",
     "output_type": "stream",
     "text": [
      "16.5 ns ± 0.699 ns per loop (mean ± std. dev. of 7 runs, 100000000 loops each)\n"
     ]
    }
   ],
   "source": [
    "#skilldrill 6.1.4\n",
    "lat = 0\n",
    "latitudes = []\n",
    "\n",
    "for lat in latitudes:\n",
    "    if lat <= 1500:\n",
    "        random_lat = random.randint(-90,90) + random.random()\n",
    "        latitudes.append(random_lat)\n",
    "        lat += 1\n",
    "%timeit random_lat"
   ]
  },
  {
   "cell_type": "code",
   "execution_count": null,
   "id": "4f17baf9",
   "metadata": {},
   "outputs": [],
   "source": []
  }
 ],
 "metadata": {
  "kernelspec": {
   "display_name": "PythonData",
   "language": "python",
   "name": "pythondata"
  },
  "language_info": {
   "codemirror_mode": {
    "name": "ipython",
    "version": 3
   },
   "file_extension": ".py",
   "mimetype": "text/x-python",
   "name": "python",
   "nbconvert_exporter": "python",
   "pygments_lexer": "ipython3",
   "version": "3.7.13"
  }
 },
 "nbformat": 4,
 "nbformat_minor": 5
}
